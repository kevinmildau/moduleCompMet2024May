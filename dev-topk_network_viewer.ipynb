{
 "cells": [
  {
   "cell_type": "code",
   "execution_count": null,
   "metadata": {
    "collapsed": true,
    "jupyter": {
     "outputs_hidden": true,
     "source_hidden": true
    }
   },
   "outputs": [],
   "source": [
    "import numpy as np\n",
    "from sklearn.metrics.pairwise import cosine_similarity\n",
    "\n",
    "# Generate random data\n",
    "data = np.random.rand(100, 100)\n",
    "top_k_max = 30\n",
    "# Compute pairwise cosine similarity\n",
    "similarity_matrix = cosine_similarity(data)\n",
    "\n",
    "nodes = [{\n",
    "    'data': {\n",
    "      'id': str(node_id), \n",
    "      'label': str(node_id), \n",
    "      'size' : np.random.randint(0, 100, 1)[0],\n",
    "    },\n",
    "    'position' : {'x': np.random.rand() * 1000, 'y': np.random.rand() * 1000}\n",
    "  } for node_id in range(0, 100)]\n",
    "\n",
    "print(nodes[0:3])\n",
    "\n",
    "from construct_edge_list import construct_edge_list_for_cytoscape\n",
    "top_k_edge_list = construct_edge_list_for_cytoscape(similarity_matrix, [iloc for iloc in range(0, similarity_matrix.shape[0])], top_k= top_k_max)\n",
    "# Making the edges more different in weight:\n",
    "for edge in top_k_edge_list:\n",
    "  edge[\"data\"][\"weight\"] = np.random.random()\n",
    "  edge[\"data\"][\"label\"] = str(round(edge[\"data\"][\"weight\"],2 ))\n",
    "  \n",
    "sorted_indices = np.array([elem[\"data\"][\"weight\"] for elem in top_k_edge_list]).argsort()\n",
    "top_k_edge_list = np.array(top_k_edge_list)[sorted_indices[::-1]].tolist()\n",
    "print(top_k_edge_list[0:3])"
   ]
  },
  {
   "cell_type": "code",
   "execution_count": null,
   "metadata": {},
   "outputs": [],
   "source": [
    "from topknet import run_network_visualization\n",
    "app = run_network_visualization(nodes, top_k_edge_list, top_k_max)\n",
    "app.run(jupyter_mode = \"external\")"
   ]
  }
 ],
 "metadata": {
  "kernelspec": {
   "display_name": "Python 3 (ipykernel)",
   "language": "python",
   "name": "python3"
  },
  "language_info": {
   "codemirror_mode": {
    "name": "ipython",
    "version": 3
   },
   "file_extension": ".py",
   "mimetype": "text/x-python",
   "name": "python",
   "nbconvert_exporter": "python",
   "pygments_lexer": "ipython3",
   "version": "3.10.8"
  }
 },
 "nbformat": 4,
 "nbformat_minor": 4
}
