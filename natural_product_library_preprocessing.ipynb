{
 "cells": [
  {
   "cell_type": "markdown",
   "metadata": {},
   "source": [
    "This notebook collects the code used to pre-process the data. This code is based on 'matchms==0.24.1', \"matchmsextras==0.4.0\", and 'ms2deepscore==2.0.0'. These are not part of the general repo dependencies and need to be added manually. Data structures are saved as .npy (txt, similarity matrix) and json (spectra) for use in the exploration code within \"practical_appendix_natural_products.ipynb\". The ms2deepscore core further requires a trained model file in a models folder to run (e.g. ms2deepscore_model.pt from https://zenodo.org/records/10814307).\n",
    "\n",
    "Important: this notebook is designed for local runtimes only. The data produced are available in the data_natural_products_library folder."
   ]
  },
  {
   "cell_type": "code",
   "execution_count": 1,
   "metadata": {},
   "outputs": [
    {
     "name": "stdout",
     "output_type": "stream",
     "text": [
      "0.24.1\n",
      "0.4.0\n",
      "2.0.0\n"
     ]
    }
   ],
   "source": [
    "import os\n",
    "import numpy as np\n",
    "import matchms\n",
    "import ms2deepscore\n",
    "import matchmsextras\n",
    "import natural_product_library_preprocessing_utils as prepro\n",
    "print(matchms.__version__)\n",
    "print(matchmsextras.__version__)\n",
    "print(ms2deepscore.__version__)"
   ]
  },
  {
   "cell_type": "code",
   "execution_count": 2,
   "metadata": {},
   "outputs": [],
   "source": [
    "ms2deepscore_model_filepath = os.path.join(\"models\", \"ms2deepscore_model.pt\")                                           # MODEL FILES                      \n",
    "data_directory = \"data_natural_products_library\"                                                                        # DIRECTORY\n",
    "spectra_filepath_mgf = os.path.join(data_directory, \"GNPS-NIH-NATURALPRODUCTSLIBRARY.mgf\")                              # INPUT\n",
    "spectra_filepath_json = os.path.join(data_directory, \"spectra.json\")                                                    # OUTPUT\n",
    "similarity_matrix_modcos_filepath = os.path.join(data_directory, \"similarities_modcos.npy\")                             # OUTPUT          \n",
    "similarity_matrix_ms2ds_filepath = os.path.join(data_directory, \"similarities_ms2ds.npy\")                               # OUTPUT "
   ]
  },
  {
   "cell_type": "code",
   "execution_count": 16,
   "metadata": {},
   "outputs": [],
   "source": [
    "# Filtering and basic cleaning of data\n",
    "matchms_spectra = list(matchms.importing.load_from_mgf(spectra_filepath_mgf))\n",
    "matchms_spectra = [matchms.filtering.default_filters(spec) for spec in matchms_spectra]\n",
    "matchms_spectra = [matchms.filtering.normalize_intensities(spec) for spec in matchms_spectra]\n",
    "matchms_spectra = [\n",
    "  matchms.filtering.reduce_to_number_of_peaks(spec, n_required=5, n_max=200) for spec in matchms_spectra\n",
    "]\n",
    "matchms_spectra = [spec for spec in matchms_spectra if spec is not None]\n",
    "matchms_spectra = [spec.set(\"feature_id\", spec.get(\"spectrum_id\")) for spec in matchms_spectra]\n",
    "matchms_spectra = [spec.set(\"retention_time\", \"not-available\") for spec in matchms_spectra]"
   ]
  },
  {
   "cell_type": "code",
   "execution_count": 17,
   "metadata": {},
   "outputs": [
    {
     "data": {
      "text/plain": [
       "{'charge': 1,\n",
       " 'ionmode': 'positive',\n",
       " 'smiles': 'OC(=O)[C@H](NC(=O)CCN1C(=O)[C@@H]2Cc3ccccc3CN2C1=O)c4ccccc4',\n",
       " 'scans': '1865',\n",
       " 'ms_level': '2',\n",
       " 'instrument_type': 'LC-ESI-qTof',\n",
       " 'file_name': 'p1-A05_GA5_01_17878.mzXML',\n",
       " 'peptide_sequence': '*..*',\n",
       " 'organism_name': 'GNPS-NIH-NATURALPRODUCTSLIBRARY',\n",
       " 'compound_name': '(2R)-2-[3-[(10aS)-1,3-dioxo-10,10a-dihydro-5H-imidazo[1,5-b]isoquinolin-2-yl]propanoylamino]-2-phenylacetic acid\"',\n",
       " 'principal_investigator': 'Dorrestein',\n",
       " 'data_collector': 'VVP/LMS',\n",
       " 'submit_user': 'vphelan',\n",
       " 'confidence': '1',\n",
       " 'spectrum_id': 'CCMSLIB00000079350',\n",
       " 'precursor_mz': 408.156,\n",
       " 'adduct': '[M+H]+',\n",
       " 'feature_id': 'CCMSLIB00000079350',\n",
       " 'retention_time': 'not-available'}"
      ]
     },
     "execution_count": 17,
     "metadata": {},
     "output_type": "execute_result"
    }
   ],
   "source": [
    "matchms_spectra[0].metadata"
   ]
  },
  {
   "cell_type": "code",
   "execution_count": 18,
   "metadata": {},
   "outputs": [],
   "source": [
    "matchms.exporting.save_as_json(matchms_spectra, filename = spectra_filepath_json)"
   ]
  },
  {
   "cell_type": "code",
   "execution_count": 5,
   "metadata": {},
   "outputs": [
    {
     "name": "stdout",
     "output_type": "stream",
     "text": [
      "The model version (0.5.0) does not match the version of MS2Deepscore (2.0.0), consider downloading a new model or changing the MS2Deepscore version\n"
     ]
    },
    {
     "name": "stderr",
     "output_type": "stream",
     "text": [
      "1267it [00:06, 182.16it/s]\n"
     ]
    }
   ],
   "source": [
    "# using msfeast functions compute_similarities_cosine & compute_similarities_ms2ds\n",
    "similarity_matrix_modcos = prepro.compute_similarities_cosine(matchms_spectra)\n",
    "similarity_matrix_ms2ds = prepro.compute_similarities_ms2ds(matchms_spectra, ms2deepscore_model_filepath)"
   ]
  },
  {
   "cell_type": "code",
   "execution_count": 6,
   "metadata": {},
   "outputs": [],
   "source": [
    "np.savetxt(similarity_matrix_modcos_filepath, similarity_matrix_modcos)\n",
    "np.savetxt(similarity_matrix_ms2ds_filepath, similarity_matrix_ms2ds)"
   ]
  }
 ],
 "metadata": {
  "kernelspec": {
   "display_name": "Python 3",
   "language": "python",
   "name": "python3"
  },
  "language_info": {
   "codemirror_mode": {
    "name": "ipython",
    "version": 3
   },
   "file_extension": ".py",
   "mimetype": "text/x-python",
   "name": "python",
   "nbconvert_exporter": "python",
   "pygments_lexer": "ipython3",
   "version": "3.10.14"
  }
 },
 "nbformat": 4,
 "nbformat_minor": 2
}
