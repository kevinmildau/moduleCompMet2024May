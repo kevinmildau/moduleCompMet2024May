{
 "cells": [
  {
   "cell_type": "code",
   "execution_count": null,
   "metadata": {},
   "outputs": [],
   "source": [
    "import numpy as np\n",
    "from collections import namedtuple\n",
    "from compMetabolomics.spectrum import generate_mirror_plot, generate_n_spectrum_plots, generate_single_spectrum_plot, Spectrum"
   ]
  },
  {
   "cell_type": "code",
   "execution_count": null,
   "metadata": {},
   "outputs": [],
   "source": [
    "spectrum = Spectrum(\n",
    "  feature_id = 1, \n",
    "  precursor_mz=120, \n",
    "  retention_time=240, \n",
    "  fragment_intensities=np.array([0.1, 0.1, 0.5, 0.6, 1, 0.1]),\n",
    "  fragment_mass_to_charge_ratios=np.array([10,20, 100, 120, 150, 160])\n",
    ")\n",
    "spectrum"
   ]
  },
  {
   "cell_type": "code",
   "execution_count": null,
   "metadata": {},
   "outputs": [],
   "source": [
    "generate_single_spectrum_plot(spectrum)"
   ]
  },
  {
   "cell_type": "code",
   "execution_count": null,
   "metadata": {},
   "outputs": [],
   "source": [
    "generate_mirror_plot(spectrum, spectrum)"
   ]
  },
  {
   "cell_type": "code",
   "execution_count": null,
   "metadata": {},
   "outputs": [],
   "source": [
    "figures = generate_n_spectrum_plots([spectrum, spectrum, spectrum])\n",
    "_ = [fig.show() for fig in figures]"
   ]
  }
 ],
 "metadata": {
  "kernelspec": {
   "display_name": "devCourseMaterials",
   "language": "python",
   "name": "python3"
  },
  "language_info": {
   "codemirror_mode": {
    "name": "ipython",
    "version": 3
   },
   "file_extension": ".py",
   "mimetype": "text/x-python",
   "name": "python",
   "nbconvert_exporter": "python",
   "pygments_lexer": "ipython3",
   "version": "3.10.8"
  }
 },
 "nbformat": 4,
 "nbformat_minor": 2
}
