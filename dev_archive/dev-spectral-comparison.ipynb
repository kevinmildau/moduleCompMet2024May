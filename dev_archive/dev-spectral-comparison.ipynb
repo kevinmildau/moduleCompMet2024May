{
 "cells": [
  {
   "cell_type": "code",
   "execution_count": 1,
   "metadata": {},
   "outputs": [],
   "source": [
    "import matchms\n",
    "import numpy as np\n",
    "import json\n",
    "from collections import namedtuple\n",
    "from typing import List, Tuple\n"
   ]
  },
  {
   "cell_type": "code",
   "execution_count": 2,
   "metadata": {},
   "outputs": [],
   "source": [
    "# load spectra, convert and write to json\n",
    "matchms_spectra = list(matchms.importing.load_from_mgf(\"data/spectra.mgf\"))\n",
    "matchms.exporting.save_as_json(matchms_spectra, filename=\"data/spectra.json\")"
   ]
  },
  {
   "cell_type": "code",
   "execution_count": 3,
   "metadata": {},
   "outputs": [
    {
     "ename": "NameError",
     "evalue": "name 'load_json_spectra' is not defined",
     "output_type": "error",
     "traceback": [
      "\u001b[0;31m---------------------------------------------------------------------------\u001b[0m",
      "\u001b[0;31mNameError\u001b[0m                                 Traceback (most recent call last)",
      "Cell \u001b[0;32mIn[3], line 1\u001b[0m\n\u001b[0;32m----> 1\u001b[0m spectra \u001b[38;5;241m=\u001b[39m \u001b[43mload_json_spectra\u001b[49m(\u001b[38;5;124m\"\u001b[39m\u001b[38;5;124mdata/spectra.json\u001b[39m\u001b[38;5;124m\"\u001b[39m)\n\u001b[1;32m      2\u001b[0m spectra[\u001b[38;5;241m0\u001b[39m]\n",
      "\u001b[0;31mNameError\u001b[0m: name 'load_json_spectra' is not defined"
     ]
    }
   ],
   "source": [
    "spectra = load_json_spectra(\"data/spectra.json\")\n",
    "spectra[0]"
   ]
  },
  {
   "cell_type": "code",
   "execution_count": null,
   "metadata": {},
   "outputs": [],
   "source": [
    "print(get_min_max(spectra))\n",
    "print(get_spectrum_ids(spectra)[0:10])"
   ]
  },
  {
   "cell_type": "code",
   "execution_count": null,
   "metadata": {},
   "outputs": [],
   "source": [
    "# generate pairwise similarity matrix using ms2deepscore and modcos, save to numpy, load from file using numpy\n",
    "from compMetabolomics.spectral_comparison import compute_similarities_cosine, compute_similarities_ms2ds, convert_similarity_to_distance"
   ]
  },
  {
   "cell_type": "code",
   "execution_count": null,
   "metadata": {},
   "outputs": [],
   "source": [
    "if False:\n",
    "  similarity_matrix_modcos = compute_similarities_cosine(matchms_spectra)\n",
    "  similarity_matrix_ms2ds = compute_similarities_ms2ds(matchms_spectra, \"models/ms2deepscore_model.pt\")\n",
    "  np.savetxt(\"data/similarities_modcos.npy\", similarity_matrix_modcos)\n",
    "  np.savetxt(\"data/similarities_ms2ds.npy\", similarity_matrix_ms2ds)"
   ]
  },
  {
   "cell_type": "code",
   "execution_count": null,
   "metadata": {},
   "outputs": [],
   "source": [
    "similarity_matrix_modcos = np.loadtxt(\"data/similarities_modcos.npy\")\n",
    "similarity_matrix_ms2ds = np.loadtxt(\"data/similarities_ms2ds.npy\")"
   ]
  },
  {
   "cell_type": "code",
   "execution_count": null,
   "metadata": {},
   "outputs": [],
   "source": [
    "# generate kmedoids clustering spectrum_id and group_id pairing\n",
    "import compMetabolomics.kmedoid_clustering as kmc\n",
    "kmedoid_grid = kmc.run_kmedoid_grid(convert_similarity_to_distance(similarity_matrix_ms2ds), [10, 20, 30, 50, 100, 150, 200, 250]) \n",
    "kmc.print_kmedoid_grid(kmedoid_grid)\n",
    "kmc.plot_kmedoid_grid(kmedoid_grid)"
   ]
  },
  {
   "cell_type": "code",
   "execution_count": null,
   "metadata": {},
   "outputs": [],
   "source": [
    "# tsne stuff\n",
    "\n",
    "tsne_grid = tsne_embedding.run_tsne_grid(convert_similarity_to_distance(similarity_matrix_ms2ds), perplexity_values = [10,20,30,40,50])\n",
    "tsne_embedding.plot_tsne_grid(tsne_grid)\n",
    "tsne_embedding.print_tsne_grid(tsne_grid)\n",
    "coordinates = tsne_embedding.extract_coordinates_from_entry(tsne_grid[3])\n",
    "print(coordinates)"
   ]
  },
  {
   "cell_type": "markdown",
   "metadata": {},
   "source": [
    "Please note that the quant table is already normalized by total ion current within sample. While this does not mitigate potential batch effects from different runs, it does put the data between samples onto the same scale."
   ]
  },
  {
   "cell_type": "code",
   "execution_count": null,
   "metadata": {},
   "outputs": [],
   "source": [
    "# list of feature_id, list of fold changes, list of node_size mappings, get fold change data per feature\n",
    "import pandas as pd\n",
    "quant_table = pd.read_csv(\"data/quant_table.csv\")\n",
    "treat_table = pd.read_csv(\"data/treat_table.csv\")"
   ]
  },
  {
   "cell_type": "code",
   "execution_count": null,
   "metadata": {},
   "outputs": [],
   "source": [
    "# This code block performs log2foldchange computations, alongside some formatting steps for styling and alignment\n",
    "# Marge quantification and treatment tables\n",
    "joined_data = pd.merge(quant_table, treat_table, on='sample_id', how=\"inner\")\n",
    "# drop sample_id column which is no longer needed in joined data\n",
    "joined_data = joined_data.drop('sample_id', axis=1)\n",
    "# drop treatment information from joined data to create feature quantificaiton exclusive data\n",
    "numeric_feature_data = joined_data.drop('treatment', axis=1)\n",
    "# Compute mean by feature and group combination (feature_id will be a pandas.df index)\n",
    "mean_condition_0 = numeric_feature_data[joined_data['treatment'] == 'PleurotusOMSW0'].mean()\n",
    "mean_condition_80 = numeric_feature_data[joined_data['treatment'] == 'PleurotusOMSW80'].mean()\n",
    "# Merge pandas dataframes (using identical index)\n",
    "meansdf = pd.concat([mean_condition_0, mean_condition_80], axis=1, join=\"inner\")\n",
    "# Rename columns\n",
    "meansdf.columns = [\"omsw0\", \"omsw80\"]\n",
    "# Compute ratio and log2 ratio\n",
    "meansdf['ratio'] = meansdf['omsw80'] / meansdf['omsw0']\n",
    "meansdf['log2ratio'] = np.log2(meansdf['ratio'])\n",
    "# add feature id column and reset index\n",
    "meansdf = meansdf.reset_index().rename(columns={'index': 'feature_id'})\n",
    "# compute node size from log2fold change (linear mapping with bounds)\n",
    "meansdf['node_size'] = [transform_log2_fold_change_to_node_size(val) for val in meansdf['log2ratio']]\n",
    "# give columns more meaningful names\n",
    "meansdf = meansdf.reset_index(drop=True).rename(columns={'omsw0': 'mean_omsw0', 'omsw80': 'mean_omsw80', 'ratio': 'ratio (omsw80 / omsw0)'})\n",
    "# add increasing vs decreasing qualifier\n",
    "meansdf[\"effect_direction\"] = np.where((meansdf['mean_omsw80']-meansdf['mean_omsw0'])>=0, \"positive\", \"negative\")\n",
    "# Align summary data data frame with spectrum id ordering usied elswhere\n",
    "aligned_meansdf = align_with_spectral_feature_id(meansdf, spectra)\n",
    "aligned_meansdf"
   ]
  },
  {
   "cell_type": "code",
   "execution_count": null,
   "metadata": {},
   "outputs": [],
   "source": [
    "from typing import List\n",
    "from compMetabolomics.spectrum import Spectrum\n",
    "from compMetabolomics.construct_cytoscape_elements import generate_node_list\n",
    "\n",
    "coordinates_table = tsne_embedding.extract_coordinates_from_entry(tsne_grid[3])\n",
    "cluster_assignments = kmc.get_kmedoid_grid_entry_cluster_assignments(kmedoid_grid, 0)\n",
    "node_list = generate_node_list(spectra=spectra, coordinates_table=coordinates_table, group_ids=cluster_assignments, summary_statistics_df=meansdf)\n",
    "node_list"
   ]
  },
  {
   "cell_type": "code",
   "execution_count": null,
   "metadata": {},
   "outputs": [],
   "source": [
    "import copy\n",
    "tmp1 = copy.deepcopy(meansdf)\n",
    "tmp2 = pd.DataFrame({'feature_id' : [spec.feature_id for spec in spectra]})\n",
    "print(tmp2)\n",
    "\n",
    "tmp2.merge(tmp1, how=\"inner\")"
   ]
  }
 ],
 "metadata": {
  "kernelspec": {
   "display_name": "devCourseMaterials",
   "language": "python",
   "name": "python3"
  },
  "language_info": {
   "codemirror_mode": {
    "name": "ipython",
    "version": 3
   },
   "file_extension": ".py",
   "mimetype": "text/x-python",
   "name": "python",
   "nbconvert_exporter": "python",
   "pygments_lexer": "ipython3",
   "version": "3.10.8"
  }
 },
 "nbformat": 4,
 "nbformat_minor": 2
}
