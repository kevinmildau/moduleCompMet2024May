{
 "cells": [
  {
   "cell_type": "code",
   "execution_count": null,
   "metadata": {},
   "outputs": [],
   "source": [
    "! python --version\n",
    "import numpy as np\n",
    "from sklearn.metrics.pairwise import cosine_similarity\n",
    "import networkx as nx\n",
    "import matplotlib.pyplot as plt\n",
    "import plotly.graph_objects as go\n",
    "from compMetabolomics.dash_egonet import run_network_visualization\n",
    "from sklearn.metrics.pairwise import cosine_similarity\n",
    "from compMetabolomics.construct_edge_list import construct_edge_list_for_cytoscape"
   ]
  },
  {
   "cell_type": "code",
   "execution_count": null,
   "metadata": {},
   "outputs": [],
   "source": [
    "\n",
    "# Generate random data\n",
    "data = np.random.rand(100, 100)\n",
    "\n",
    "# Compute pairwise cosine similarity\n",
    "similarity_matrix = cosine_similarity(data)\n",
    "\n",
    "similarity_matrix.shape"
   ]
  },
  {
   "cell_type": "markdown",
   "metadata": {},
   "source": [
    "# Static Representation using networkx defaults"
   ]
  },
  {
   "cell_type": "code",
   "execution_count": null,
   "metadata": {},
   "outputs": [],
   "source": [
    "# Create a graph from the similarity matrix\n",
    "graph = nx.from_numpy_array(similarity_matrix)\n",
    "\n",
    "# Filter edges based on weight (similarity)\n",
    "threshold = 0.8  # adjust this value to your needs\n",
    "filtered_edges = [(node1, node2) for node1, node2, weight in graph.edges(data=True) if weight['weight'] < threshold]\n",
    "graph.remove_edges_from(filtered_edges)\n",
    "\n",
    "# remove self loops\n",
    "self_loops = [(node, node) for node in graph.nodes()]\n",
    "graph.remove_edges_from(self_loops)\n",
    "\n",
    "# Draw the graph\n",
    "nx.draw(graph, with_labels=True)\n",
    "plt.show()"
   ]
  },
  {
   "cell_type": "markdown",
   "metadata": {},
   "source": [
    "# Plotly Graph Objects Approach from networkX"
   ]
  },
  {
   "cell_type": "code",
   "execution_count": null,
   "metadata": {},
   "outputs": [],
   "source": [
    "\n",
    "# Get positions of nodes using spring layout\n",
    "pos = nx.spring_layout(graph)\n",
    "\n",
    "# Create edge trace\n",
    "edge_trace = go.Scatter(x=[], y=[], line=dict(width=0.5, color='#888'), hoverinfo='none', mode='lines')\n",
    "\n",
    "for edge in graph.edges():\n",
    "    x0, y0 = pos[edge[0]]\n",
    "    x1, y1 = pos[edge[1]]\n",
    "    edge_trace['x'] += tuple([x0, x1, None])\n",
    "    edge_trace['y'] += tuple([y0, y1, None])\n",
    "\n",
    "# Create node trace\n",
    "node_trace = go.Scatter(x=[], y=[], text=[], mode='markers', hoverinfo='text',\n",
    "                        marker=dict(showscale=True, colorscale='YlGnBu', reversescale=True, color=[], size=10))\n",
    "\n",
    "for node in graph.nodes():\n",
    "    x, y = pos[node]\n",
    "    node_trace['x'] += tuple([x])\n",
    "    node_trace['y'] += tuple([y])\n",
    "\n",
    "# Create figure\n",
    "fig = go.Figure(data=[edge_trace, node_trace],\n",
    "             layout=go.Layout(showlegend=False, hovermode='closest',\n",
    "                              margin=dict(b=20, l=5, r=5, t=40),\n",
    "                              xaxis=dict(showgrid=False, zeroline=False, showticklabels=False),\n",
    "                              yaxis=dict(showgrid=False, zeroline=False, showticklabels=False)))\n",
    "\n",
    "# Enable drag and zoom\n",
    "fig.update_layout(dragmode='select', clickmode='event+select')\n",
    "\n",
    "fig.show()"
   ]
  },
  {
   "cell_type": "markdown",
   "metadata": {},
   "source": [
    "# Custom Cytoscape Dash network visualization - egonetwork"
   ]
  },
  {
   "cell_type": "markdown",
   "metadata": {},
   "source": [
    "Click node to highlight node and its edges. \n",
    "Shift/ctrl/cmd click nodes for multi-selection and multi-highlight.\n",
    "Shift-drag for rectangular select tool.\n",
    "Click empty area or edge to remove highlighting.\n",
    "Ids for selected features are printed to below the network."
   ]
  },
  {
   "cell_type": "code",
   "execution_count": null,
   "metadata": {},
   "outputs": [],
   "source": [
    "np.random.randint(0, 100, 1)[0]"
   ]
  },
  {
   "cell_type": "code",
   "execution_count": null,
   "metadata": {},
   "outputs": [],
   "source": [
    "\n",
    "# Define the network data\n",
    "# Generate random data\n",
    "data = np.random.rand(100, 100)\n",
    "top_k_max = 5\n",
    "# Compute pairwise cosine similarity\n",
    "similarity_matrix = cosine_similarity(data)"
   ]
  },
  {
   "cell_type": "code",
   "execution_count": null,
   "metadata": {},
   "outputs": [],
   "source": [
    "\n",
    "nodes = [{\n",
    "    'data': {\n",
    "      'id': str(node_id), \n",
    "      'label': str(node_id), \n",
    "      'size' : np.random.randint(0, 100, 1)[0],\n",
    "    },\n",
    "    'position' : {'x': np.random.rand() * 1000, 'y': np.random.rand() * 1000}\n",
    "  } for node_id in range(0, 100)]\n",
    "\n",
    "print(nodes[0:3])\n",
    "\n",
    "\n",
    "top_k_edge_list = construct_edge_list_for_cytoscape(similarity_matrix, [iloc for iloc in range(0, similarity_matrix.shape[0])], top_k= top_k_max)\n",
    "\n",
    "# Making the edges more different in weight:\n",
    "for edge in top_k_edge_list:\n",
    "  edge[\"data\"][\"weight\"] = np.random.random()\n",
    "  edge[\"data\"][\"label\"] = str(round(edge[\"data\"][\"weight\"],2 ))\n",
    "sorted_indices = np.array([elem[\"data\"][\"weight\"] for elem in top_k_edge_list]).argsort()\n",
    "top_k_edge_list = np.array(top_k_edge_list)[sorted_indices[::-1]].tolist()\n",
    "print(top_k_edge_list[0:3])\n",
    "# Initalize interactive app\n",
    "app = run_network_visualization(top_k_edge_list + nodes)"
   ]
  }
 ],
 "metadata": {
  "kernelspec": {
   "display_name": "moduleCompMet2024May",
   "language": "python",
   "name": "python3"
  },
  "language_info": {
   "codemirror_mode": {
    "name": "ipython",
    "version": 3
   },
   "file_extension": ".py",
   "mimetype": "text/x-python",
   "name": "python",
   "nbconvert_exporter": "python",
   "pygments_lexer": "ipython3",
   "version": "3.10.8"
  }
 },
 "nbformat": 4,
 "nbformat_minor": 2
}
