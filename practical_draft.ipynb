{
 "cells": [
  {
   "cell_type": "markdown",
   "metadata": {},
   "source": [
    "# Background on Mass Spectral Networking\n",
    "\n",
    "## Spectral Networking - A means of organizing and visualizing abstract spectral data\n",
    "In this practical we will delve deeper into computational metabolomics toolkit in the form of mass spectral molecular networking. Mass spectral networking, also known as molecular networking, is a staple method used by untargeted metabolomics researchers to help in exploratory data analysis and presentation of their results. Networks serve to organize the data, find connections between different spectra, and assist in propagating structural information to and from neighboring nodes. In addition, spectral feature groups, also known as molecular families, often serve as a canvas for overlaying annotation information to be presented in scientific papers and presentations.\n",
    "\n",
    "## Spectral Networking - Spectral and Structural Similarity Link\n",
    "On a conceptual level, molecular networking inverts the observation that similar structures tend to fragment similarly into the reverse hypothesis that similar spectra imply similar structures. This inversion opens up a way to organize unknown spectra into groups with implied structural overlaps. While we may not know the chemical identity of the grouped spectra, we do know that their spectral similarity implies a certain structural similarity. It is important to take into account that we may have library matches or high confidence structural annotations for at least some of the features, rendering the the molecular families a promising stepping stone into comparative spectral analysis with the purpose of structural elucidation.\n",
    "\n",
    "## Spectral Networking - Data Processing and Visualization\n",
    "On a technical level molecular networking can be perceived as a two-step data processing and data visualization workflow. In the data processing step, spectra data are turned into a pairwise similarity matrix based on the modified cosine score, which is turned into a collection of subnetworks using various topological settings among which :\n",
    "\n",
    "+ **spectral similarity thresholds**: a minimum pairwise similarity cutoff value required before a connection (edge, link) between spectra is made. This limits connectivity to promising pairwise relationships and prevents visual overload from excess connections. \n",
    "+ **minimum fragment overlaps**: a minimum number for the number of shared fragments between a pair of spectra before it is considered for connection. This limits connectivity to promising pairwise relationships and prevents visual overload from excess connections. \n",
    "+ **maximum node degree**: a maximum number of connections to a given feature, used primarily to prevent visual clutter from excessive numbers of edges for certain nodes.\n",
    "+ **maximum sub-network size**: a limit on the number of members within a molecular family; essentially a limitation to cluster size.\n",
    "\n",
    "The molecular networking workflow makes use of these setting to generate a collection of disjoint sub-networks from the full data. These sub-networks, of which some will inevitably be singletons (single features disconnected from everything else), are visualized all-together (side-by-side) or group-wise as network diagrams (also known as Node-Link or Vertex-Edge diagrams) in Cytoscape. Somewhat misleadingly, molecular networks in Cytoscape are organized by sub-network size, giving the misleading impression that larger clusters are more important.\n",
    "\n",
    "## Spectral Networking - Data Subdivision & Structural Hypothesis Generation\n",
    "Spectral similarity groupings and their network visualization are useful for two primary reasons. First, they subdivide large heterogeneous datasets into smaller, more homogeneous and thus more manageable subsets. Dealing with small subnetworks and gaining an overview of the features within them is much more straightforward than dealing with a whole dataset at once.Second, the nodes within the groupings contain an implicit structural relationship with one another that may be useful for structural hypothesis generation. The latter part is especially useful in conjunction with library matches or high confidence annotations for some spectra.\n",
    "\n",
    "# Practical Assignments \n",
    "\n",
    "In this practical we will make use of the publically available natural product discovery dataset of Soliman Kathib. In his study, Kathib and colleagues explored the effect of increased fractions of olive mill solid waste in the growth substrate of Hericium and Pleurothus mushrooms. For this practical we will look at the Pleurothus data only, and make use of a comparison of a zero percentage of OMSW against eighty percent OMSW.\n",
    "\n",
    "### Task 1\n",
    "\n",
    "***Task: Open the mushroom data of Soliman Kathib using the gnps network viewer [data](https://gnps.ucsd.edu/ProteoSAFe/status.jsp?task=60727fe5228643e6a482bd797d83df38). Assume you are interested in how the chemistry of Pleurotus mushrooms adjusts to the increased amount of Olive Mill Solid Waste (OMSW) in the growth substrate. Does the network provide a means of identifying important node clusters or nodes?***\n",
    "\n",
    "<details>\n",
    "    <summary>Hint</summary>\n",
    "    The web browser version does not provide enough information integration with statistical data elements to find out which nodes and node clusters show differential intensity trends. To inspect this aspect of the data, the cytoscape desktop app needs to be used to visualize the whole dataset and some custom styling needs to be applied. Follow the instructions below to generate a suitable network view:  \n",
    "    In cytoscape, load the downloaded graphml file from the gnps repository, move to style, and make sure to activate node styling. Within the panel, find the image/chart entry, and click on the left-most selection box. This opens a window within which you can select betweem images, charts, and gradient overlays. Move to Charts, select the pie chart, and make sure that the selected columns are GNPSGROUP:0 and GNPSGROUP:80, which represent the cumulative intensities for features in samples with these respective OMSW percentages. An alternative represenation is the bar chart, used stacked and deactivate the \"same value range for all charts\" option for a better two group comparison on a node by node basis.\n",
    "</details>\n",
    "<details>\n",
    "    <summary>Answer</summary>\n",
    "    The gnps and cytoscape network provide an overwhelming amount of information at first glance. With some inspection, searching, and custom styling, one can find information on each node, as well as sample group specific abundance patterns. Molecular families of interest can become apparent via differential intensity coloring. It should be noted that these analyses are exploratory, and may be heavily distorted by sampling artefacts such as batch effects. Example views from Cytoscape: <br>\n",
    "    Molecular Families with differences and overlaps between conditions: <br>\n",
    "    <img src=\"images/omsw 0 vs 80 (80 is green) overlaps.png\">\n",
    "    Molecular Families with almost no overlap between conditions: <br>\n",
    "    <img src=\"images/omsw 0 vs 80 (80 is green) large difference.png\">\n",
    "</details>\n",
    "\n",
    "*Inspect the edge list and node list data within Cytoscape. What information did the GNPS workflow add to the spectral data?*\n",
    "<details>\n",
    "    <summary>Answer</summary>\n",
    "    The edge list does not provide any useful information beyond the connectivity shown in the network view itself. The node view contains many data columns with processed metadata and any annotations from library matching.  <br>\n",
    "    Partial view of abular data available in node table: <br>\n",
    "    <img src=\"images/annotations data.png\">\n",
    "</details>\n",
    "\n",
    "\n",
    "##  Limitations of \"molecular networking\"\n",
    "\n",
    "While clearly advantageous and an important first step in generating organization in datasets, molecular networking and its subdivision into subnetworks does come with tradeoffs. Here, subdividing networks into strict subnetworks may obscure relationships between such subnetworks or across the spectra they contain. While strict edge cutoffs may be needed for organizing spectral data into disjoint groups using this method, they do represent a loss of topological neighborhood information. The feature grouping itself is done using a plethora of topological settings, and correspondingly difficult to tune. This is especially true when changing between different scoring approaches with different scoring behavior than the modified cosine score such as MS2DeepScore. Modified cosine scoring tends to produce sparse matrices suitable for disjoint subdivision, while machine learning embedding-based scores such as MS2DeepScore tend to create much higher interconnectivity between features, easily leading to dense hairball networks that are difficult to read.\n",
    "\n",
    "In addition to difficulties in finding the right settings to use, the molecular networking workflow comes in a style-free form; nodes and edges are shown, some metadata and annotation information is integrated, yet visual mappings are left to the user. Hence, a good understanding of the cytoscape user interface and its settings is required to achieve good visual integration of the type of information sought. As such, molecular networking is thus better viewed as a starting point for additional customization and data explorations rather than an exploratory end-point.\n",
    "\n",
    "In the following tasks we will make use of different approaches to generating molecular network-like visualizations interactively within this jupyter notebook."
   ]
  },
  {
   "cell_type": "markdown",
   "metadata": {},
   "source": [
    "# Loading the data and required packages\n",
    "\n",
    "The best way to make use of the course modules is to clone the github repository, open the repository folder using the command line, and run the following lines of code:\n",
    "\n",
    "```\n",
    "    conda create -name compMetEnv python=3.10\n",
    "    conda activate compMetEnv\n",
    "    pip install .\n",
    "    jupyter-notebook\n",
    "```\n",
    "\n",
    "These commands create 1) a new isolated python environment, 2) activate this environmeent, 3) install the compMetabolomics course modules, and 4) run a jupyter-notebook from within the conda environment. Set-up may differ when using google-colab or hosted jupyterlab environments."
   ]
  },
  {
   "cell_type": "code",
   "execution_count": null,
   "metadata": {},
   "outputs": [],
   "source": [
    "# LOADING PYTHON PACKAGES & COMP-METABOLOMICS MODULES\n",
    "import numpy as np\n",
    "import pandas as pd\n",
    "import os\n",
    "import copy\n",
    "import json\n",
    "from compMetabolomics.map_to_size import transform_log2_fold_change_to_node_size\n",
    "from compMetabolomics.spectrum import Spectrum, load_json_spectra, parse_json_spectrum, get_min_max, get_spectrum_ids\n",
    "from compMetabolomics.tsne_embedding import run_tsne_grid, plot_tsne_grid, print_tsne_grid, extract_coordinates_from_entry\n",
    "from compMetabolomics.kmedoid_clustering import run_kmedoid_grid, print_kmedoid_grid, plot_kmedoid_grid, get_kmedoid_grid_entry_cluster_assignments\n",
    "from compMetabolomics.spectral_comparison import convert_similarity_to_distance\n",
    "from compMetabolomics.integrate import align_with_spectral_feature_id\n",
    "from compMetabolomics.construct_cytoscape_elements import generate_edge_list, generate_node_list"
   ]
  },
  {
   "cell_type": "code",
   "execution_count": null,
   "metadata": {},
   "outputs": [],
   "source": [
    "# DEFINE DATA DIRECTORIES AND FILEPATHS\n",
    "data_directory = os.path.join(\"data\")\n",
    "filepath_spectra = os.path.join(data_directory, \"spectra.json\")\n",
    "filepath_similarity_matrix_modcos = os.path.join(data_directory, \"similarities_modcos.npy\")\n",
    "filepath_similarity_matrix_ms2deepscore = os.path.join(data_directory, \"similarities_ms2ds.npy\")\n",
    "filepath_quant_table = os.path.join(data_directory, \"quant_table.csv\")\n",
    "filepath_treat_table = os.path.join(data_directory, \"treat_table.csv\")"
   ]
  },
  {
   "cell_type": "markdown",
   "metadata": {},
   "source": [
    "***TASK: Load and inspect the example data using the code below. Give a short description of each data component.***\n",
    "<details>\n",
    "    <summary>Hint</summary>\n",
    "    For each loaded data item, inspect the console output. To describe the data give a short description of the data\n",
    "    utility in the context of molecular networking. The data shown here is a subset and tidied up version of the \n",
    "    information you can find in the tabular and spectral exports provided by gnps. Importantly, the feature_id's here\n",
    "    correspond to the scans (in spectral .mgf file), name / shared_name entries (cytoscape node table), and row ID \n",
    "    (.csv file) seen in the gnps output.\n",
    "</details>"
   ]
  },
  {
   "cell_type": "code",
   "execution_count": null,
   "metadata": {},
   "outputs": [],
   "source": [
    "# LOAD & INSPECT INPUT DATA SOURCES - SPECTRA\n",
    "spectra = load_json_spectra(\"data/spectra.json\")\n",
    "print(\"Spectra is a list of Spectrum tuples: \\n\", spectra[0])"
   ]
  },
  {
   "cell_type": "code",
   "execution_count": null,
   "metadata": {},
   "outputs": [],
   "source": [
    "# LOAD & INSPECT INPUT DATA SOURCES - SPECTRAL SIMILARITY MATRICES\n",
    "similarity_matrix_modcos = np.loadtxt(\"data/similarities_modcos.npy\")\n",
    "similarity_matrix_ms2ds = np.loadtxt(\"data/similarities_ms2ds.npy\")\n",
    "print(\n",
    "  \"The similarity matrices are square matrices displaying similarity score output\",\n",
    "  \"for each feature pair (via index):\\n\",\n",
    "  \"Modified Cosine Score entries (first 4)\\n\", \n",
    "  similarity_matrix_modcos[0:4, 0:4],\n",
    "  \"\\nMs2DeepScore entries (first 4) \\n\", \n",
    "  similarity_matrix_ms2ds[0:4, 0:4]\n",
    ")"
   ]
  },
  {
   "cell_type": "code",
   "execution_count": null,
   "metadata": {},
   "outputs": [],
   "source": [
    "# LOAD & INSPECT INPUT DATA SOURCES - QUANTIFICATION TABLE & STATISTICAL METADATA\n",
    "quant_table = pd.read_csv(\"data/quant_table.csv\")\n",
    "treat_table = pd.read_csv(\"data/treat_table.csv\")\n",
    "print(\n",
    "  \"The quantification table with sample_id vs feature specific intensity. Normalized to unit sum per sample.\\n\",\n",
    "  quant_table.iloc[:, 0:7], \n",
    "  \"\\nThe treatment table with sample_id vs treatment.\\n\",\n",
    "  treat_table\n",
    ")"
   ]
  },
  {
   "cell_type": "markdown",
   "metadata": {},
   "source": [
    "# Embedding the spectral similarity data using t-SNE"
   ]
  },
  {
   "cell_type": "code",
   "execution_count": null,
   "metadata": {},
   "outputs": [],
   "source": [
    "similarity_matrix = similarity_matrix_ms2ds"
   ]
  },
  {
   "cell_type": "code",
   "execution_count": null,
   "metadata": {},
   "outputs": [],
   "source": [
    "tsne_grid = run_tsne_grid(\n",
    "  convert_similarity_to_distance(similarity_matrix), \n",
    "  perplexity_values = [10,20,30,40,50]\n",
    ")\n",
    "plot_tsne_grid(tsne_grid)\n",
    "print_tsne_grid(tsne_grid)"
   ]
  },
  {
   "cell_type": "code",
   "execution_count": null,
   "metadata": {},
   "outputs": [],
   "source": [
    "tsne_iloc = 3\n",
    "coordinates_table = extract_coordinates_from_entry(tsne_grid[tsne_iloc])"
   ]
  },
  {
   "cell_type": "markdown",
   "metadata": {},
   "source": [
    "# Clustering the spectral similarity data using k-medoid clustering"
   ]
  },
  {
   "cell_type": "code",
   "execution_count": null,
   "metadata": {},
   "outputs": [],
   "source": [
    "# set the number of clusters (similarity matrix same as above assumed)\n",
    "n_groups_list = [10, 20, 30, 50, 100, 150, 200, 250, 500, 1000] # np.arange(0, 1500, 100).to_list()"
   ]
  },
  {
   "cell_type": "code",
   "execution_count": null,
   "metadata": {},
   "outputs": [],
   "source": [
    "kmedoid_grid = run_kmedoid_grid(convert_similarity_to_distance(similarity_matrix_ms2ds), n_groups_list) \n",
    "print_kmedoid_grid(kmedoid_grid)\n",
    "plot_kmedoid_grid(kmedoid_grid)"
   ]
  },
  {
   "cell_type": "markdown",
   "metadata": {},
   "source": [
    "For visual ease within this practical we choose iloc = 1, clearly, larger numbers would seem appropriate for this data given the tuning run."
   ]
  },
  {
   "cell_type": "code",
   "execution_count": null,
   "metadata": {},
   "outputs": [],
   "source": [
    "# SELECT KMEDOID GRID ENTRY & extract assignment list\n",
    "k_medoid_iloc = 1\n",
    "kmedoid_assignments = get_kmedoid_grid_entry_cluster_assignments(kmedoid_grid,  k_medoid_iloc)\n",
    "print(kmedoid_assignments[0:5])\n",
    "print(np.unique(kmedoid_assignments))"
   ]
  },
  {
   "cell_type": "markdown",
   "metadata": {},
   "source": [
    "# Computing Log2FoldChanges for the features"
   ]
  },
  {
   "cell_type": "markdown",
   "metadata": {},
   "source": [
    "The code below causes division by zero problems that lead to -inf and +inf outcomes which causes some warnings. The warnings can be ignored as they are handled by the node size conversion functions."
   ]
  },
  {
   "cell_type": "code",
   "execution_count": null,
   "metadata": {},
   "outputs": [],
   "source": [
    "# Compute log2fold Changes & align data (complex code, focus on the output data frame & collapse the processing script function)\n",
    "def script_create_log2foldchange_summary(quantification_table, treatment_table, spectrum_list):\n",
    "  # disconnect inputs from the out of function scope variables\n",
    "  quant_table = copy.deepcopy(quantification_table)\n",
    "  treat_table = copy.deepcopy(treatment_table)\n",
    "  spectra = copy.deepcopy(spectrum_list)\n",
    "  # Marge quantification and treatment tables\n",
    "  joined_data = pd.merge(quant_table, treat_table, on='sample_id', how=\"inner\")\n",
    "  # drop sample_id column which is no longer needed in joined data\n",
    "  joined_data = joined_data.drop('sample_id', axis=1)\n",
    "  # drop treatment information from joined data to create feature quantificaiton exclusive data\n",
    "  numeric_feature_data = joined_data.drop('treatment', axis=1)\n",
    "  # Compute mean by feature and group combination (feature_id will be a pandas.df index)\n",
    "  mean_condition_0 = numeric_feature_data[joined_data['treatment'] == 'PleurotusOMSW0'].mean()\n",
    "  mean_condition_80 = numeric_feature_data[joined_data['treatment'] == 'PleurotusOMSW80'].mean()\n",
    "  # Merge pandas dataframes (using identical index)\n",
    "  meansdf = pd.concat([mean_condition_0, mean_condition_80], axis=1, join=\"inner\")\n",
    "  # Rename columns\n",
    "  meansdf.columns = [\"omsw0\", \"omsw80\"]\n",
    "  # Compute ratio and log2 ratio\n",
    "  meansdf['ratio'] = meansdf['omsw80'] / meansdf['omsw0']\n",
    "  meansdf['log2ratio'] = np.log2(meansdf['ratio'])\n",
    "  # add feature id column and reset index\n",
    "  meansdf = meansdf.reset_index().rename(columns={'index': 'feature_id'})\n",
    "  # compute node size from log2fold change (linear mapping with bounds)\n",
    "  meansdf['node_size'] = [transform_log2_fold_change_to_node_size(val) for val in meansdf['log2ratio']]\n",
    "  # give columns more meaningful names\n",
    "  meansdf = meansdf.reset_index(drop=True).rename(columns={'omsw0': 'mean_omsw0', 'omsw80': 'mean_omsw80', 'ratio': 'ratio (omsw80 / omsw0)'})\n",
    "  # add increasing vs decreasing qualifier\n",
    "  meansdf[\"effect_direction\"] = np.where((meansdf['mean_omsw80']-meansdf['mean_omsw0'])>=0, \"positive\", \"negative\")\n",
    "  # Align summary data data frame with spectrum id ordering usied elswhere\n",
    "  aligned_meansdf = align_with_spectral_feature_id(meansdf, spectra)\n",
    "  return aligned_meansdf\n",
    "summary_statistics_df = script_create_log2foldchange_summary(quant_table, treat_table, spectra)"
   ]
  },
  {
   "cell_type": "code",
   "execution_count": null,
   "metadata": {},
   "outputs": [],
   "source": [
    "summary_statistics_df"
   ]
  },
  {
   "cell_type": "markdown",
   "metadata": {},
   "source": [
    "# Interactive Network Visualization - Type 1"
   ]
  },
  {
   "cell_type": "code",
   "execution_count": null,
   "metadata": {},
   "outputs": [],
   "source": [
    "edge_list = generate_edge_list(similarity_matrix, [s.feature_id for s in spectra], top_k = 50)\n",
    "# sorting edge list:\n",
    "sorted_indices = np.array([elem[\"data\"][\"weight\"] for elem in edge_list]).argsort()\n",
    "edge_list = np.array(edge_list)[sorted_indices[::-1]].tolist()\n",
    "edge_list[0:3]"
   ]
  },
  {
   "cell_type": "code",
   "execution_count": null,
   "metadata": {},
   "outputs": [],
   "source": [
    "node_list = generate_node_list(spectra=spectra, coordinates_table=coordinates_table, group_ids=kmedoid_assignments, summary_statistics_df=summary_statistics_df)\n",
    "node_list[0:3]"
   ]
  },
  {
   "cell_type": "markdown",
   "metadata": {},
   "source": [
    "BEWARE OF SELECTING LARGE NUMBERS OF NODES WITH LARGE TOPK SELECTED --> CAN CRASH THE SESSION"
   ]
  },
  {
   "cell_type": "code",
   "execution_count": null,
   "metadata": {},
   "outputs": [],
   "source": [
    "from compMetabolomics.dash_group_highlight_topknet import run_network_visualization as run_ns1\n",
    "app = run_ns1(node_list, edge_list, 50)\n",
    "app.run_server(port = \"8051\", jupyter_mode = \"external\")"
   ]
  },
  {
   "cell_type": "markdown",
   "metadata": {},
   "source": [
    "# Task Ideas not yet put into clear text"
   ]
  },
  {
   "cell_type": "markdown",
   "metadata": {},
   "source": [
    "***Task: Generate the t-SNE overview of the data using plotly. Is the t-SNE overview useful in its own right? What does it show? Does the second version with cluster highlighting improve the utility of the plot?***\n",
    "\n",
    "***Task: Generate the interactive t-SNE overview of the data using plotly. How does this representation of the data compare to the Cytoscape network visualization?***\n",
    "\n",
    "***Task: Generate the interactive t-SNE overview of the data using plotly. This representation provides a color gradient for fold node specific fold change. What other ways of visualizing these data do you know?***\n",
    "\n",
    "--> heatmaps, possibly per-cluster, possibly using optimal leaf ordering based on spectral clustering rather than statistical data\n",
    "\n",
    "***Task: Generate the interactive t-SNE representation with edge overlays. What does the network connectivity data add to the t-SNE overview.***\n",
    "\n",
    "\n",
    "**Main Task Series based on soliman's data**\n",
    "\n",
    "***Task: Find differentially abundant features in the data.***\n",
    "\n",
    "***Task: Find differentially abundant features in the data. Do they cluster in some way?***\n",
    "\n",
    "***Task: Find differentially abundant features in the data. Do they have high connectivity with one another?***\n",
    "\n",
    "\n",
    "***Task: Find differentially abundant features in the data. Do they share spectral similarities?***\n",
    "--> fragmap like plot would be useful\n",
    "\n",
    "***Task: Find differentially abundant features in the data. Do they share similar structural annotations?***\n",
    "--> more extensive spectrum info print\n",
    "\n"
   ]
  },
  {
   "cell_type": "markdown",
   "metadata": {},
   "source": [
    "***TASK: ...***\n",
    "<details>\n",
    "    <summary>Hint</summary>\n",
    "    ...\n",
    "</details>\n",
    "<details>\n",
    "    <summary>Answer</summary>\n",
    "    ...\n",
    "</details>"
   ]
  }
 ],
 "metadata": {
  "kernelspec": {
   "display_name": "devCourseMaterials",
   "language": "python",
   "name": "python3"
  },
  "language_info": {
   "codemirror_mode": {
    "name": "ipython",
    "version": 3
   },
   "file_extension": ".py",
   "mimetype": "text/x-python",
   "name": "python",
   "nbconvert_exporter": "python",
   "pygments_lexer": "ipython3",
   "version": "3.10.8"
  }
 },
 "nbformat": 4,
 "nbformat_minor": 2
}
